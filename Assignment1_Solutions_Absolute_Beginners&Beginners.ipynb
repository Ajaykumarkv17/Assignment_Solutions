{
  "nbformat": 4,
  "nbformat_minor": 0,
  "metadata": {
    "colab": {
      "name": "Assignment1_Solutions-Absolute Beginners, Beginners.ipynb",
      "provenance": [],
      "collapsed_sections": []
    },
    "kernelspec": {
      "name": "python3",
      "display_name": "Python 3"
    }
  },
  "cells": [
    {
      "cell_type": "markdown",
      "metadata": {
        "id": "TgyqwSVMI-eV",
        "colab_type": "text"
      },
      "source": [
        "# Assignment-1 Solutions \n",
        "#### (Absolute Beginners and Beginners)\n",
        "\n",
        "This is the first assignment of the DPhi Data Science Bootcamp and revolves around Data Analysis and Data Visualisation on the Standard Metropolitan Area Dataset.\n",
        "\n",
        "## About the Dataset\n",
        "It contains data of 99 standard metropolitan areas in the US. The data set provides information on 10 variables for each area for the period 1976-1977. The areas have been divided into 4 geographic regions: 1=North-East, 2=North-Central, 3=South, 4=West. \n",
        "\n",
        "**Link to the Dataset:** https://bit.ly/SMA_Dataset"
      ]
    },
    {
      "cell_type": "markdown",
      "metadata": {
        "id": "EXt4CS3uI7ig",
        "colab_type": "text"
      },
      "source": [
        "I have already downloaded the dataset in my machine.\n",
        "\n",
        "**Only for Google Colab users**\n",
        "\n",
        "- The following lines are used to upload the dataset on Google Colab\n",
        "\n",
        "- On running this cell, we have to select the file that we want to upload\n",
        "- Once uploaded, the dataset can be accessed directly with the file name. We don't need to access the 'uploaded' object\n"
      ]
    },
    {
      "cell_type": "code",
      "metadata": {
        "id": "2devU701EsVd",
        "colab_type": "code",
        "outputId": "bace54b8-9bf9-41de-a88f-71338bb7bd95",
        "colab": {
          "resources": {
            "http://localhost:8080/nbextensions/google.colab/files.js": {
              "data": "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",
              "ok": true,
              "headers": [
                [
                  "content-type",
                  "application/javascript"
                ]
              ],
              "status": 200,
              "status_text": ""
            }
          },
          "base_uri": "https://localhost:8080/",
          "height": 95
        }
      },
      "source": [
        "from google.colab import files\n",
        "uploaded = files.upload()"
      ],
      "execution_count": 0,
      "outputs": [
        {
          "output_type": "display_data",
          "data": {
            "text/html": [
              "\n",
              "     <input type=\"file\" id=\"files-22862cc2-53da-4e01-bbdd-bc3ead29c4af\" name=\"files[]\" multiple disabled />\n",
              "     <output id=\"result-22862cc2-53da-4e01-bbdd-bc3ead29c4af\">\n",
              "      Upload widget is only available when the cell has been executed in the\n",
              "      current browser session. Please rerun this cell to enable.\n",
              "      </output>\n",
              "      <script src=\"/nbextensions/google.colab/files.js\"></script> "
            ],
            "text/plain": [
              "<IPython.core.display.HTML object>"
            ]
          },
          "metadata": {
            "tags": []
          }
        },
        {
          "output_type": "stream",
          "text": [
            "Saving Standard Metropolitan Areas Data - train_data - data.csv to Standard Metropolitan Areas Data - train_data - data (2).csv\n"
          ],
          "name": "stdout"
        }
      ]
    },
    {
      "cell_type": "markdown",
      "metadata": {
        "id": "6OXhkIeoKgg-",
        "colab_type": "text"
      },
      "source": [
        "Next, we are importing packages using their standard alias names: pd for pandas, np for numpy, plt for matplotlib.pyplot and sns for seaborn"
      ]
    },
    {
      "cell_type": "code",
      "metadata": {
        "id": "uE_cgsW1H-IM",
        "colab_type": "code",
        "outputId": "cedd963a-0f90-4ed3-f361-f383557cb97b",
        "colab": {
          "base_uri": "https://localhost:8080/",
          "height": 71
        }
      },
      "source": [
        "import pandas as pd\n",
        "import numpy as np\n",
        "import matplotlib.pyplot as plt\n",
        "import seaborn as sns"
      ],
      "execution_count": 0,
      "outputs": [
        {
          "output_type": "stream",
          "text": [
            "/usr/local/lib/python3.6/dist-packages/statsmodels/tools/_testing.py:19: FutureWarning: pandas.util.testing is deprecated. Use the functions in the public API at pandas.testing instead.\n",
            "  import pandas.util.testing as tm\n"
          ],
          "name": "stderr"
        }
      ]
    },
    {
      "cell_type": "markdown",
      "metadata": {
        "id": "wH1YUONNKpAw",
        "colab_type": "text"
      },
      "source": [
        "Using the Pandas read_csv method to read the Dataset's CSV file. Inside the brackets, we can either specify the path of the file or a downloadable link.\n",
        "\n",
        "Here, my file is uploaded in the same directory as the Jupyter Notebook and thus I can access it directly with the name. If the file is available in any other location, the full path of the file must be provided.\n",
        "\n",
        "Please go through the following module to learn about working with CSV files: https://bit.ly/DPhi_Day9\n",
        "\n",
        "I am storing the dataset in the variable 'data'\n"
      ]
    },
    {
      "cell_type": "code",
      "metadata": {
        "id": "W2yeRYepFJRT",
        "colab_type": "code",
        "colab": {}
      },
      "source": [
        "data = pd.read_csv(\"Standard Metropolitan Areas Data - train_data - data.csv\") "
      ],
      "execution_count": 0,
      "outputs": []
    },
    {
      "cell_type": "markdown",
      "metadata": {
        "id": "QtYsUgKFOKQd",
        "colab_type": "text"
      },
      "source": [
        "Pandas head() method is used to return top n (5 by default) rows of a DataFrame. It allows us to get an estimate of what the data looks like"
      ]
    },
    {
      "cell_type": "code",
      "metadata": {
        "id": "bymyYJSlIEWR",
        "colab_type": "code",
        "outputId": "165bdcd3-256b-445a-c3f9-b68584127378",
        "colab": {
          "base_uri": "https://localhost:8080/",
          "height": 223
        }
      },
      "source": [
        "data.head()"
      ],
      "execution_count": 0,
      "outputs": [
        {
          "output_type": "execute_result",
          "data": {
            "text/html": [
              "<div>\n",
              "<style scoped>\n",
              "    .dataframe tbody tr th:only-of-type {\n",
              "        vertical-align: middle;\n",
              "    }\n",
              "\n",
              "    .dataframe tbody tr th {\n",
              "        vertical-align: top;\n",
              "    }\n",
              "\n",
              "    .dataframe thead th {\n",
              "        text-align: right;\n",
              "    }\n",
              "</style>\n",
              "<table border=\"1\" class=\"dataframe\">\n",
              "  <thead>\n",
              "    <tr style=\"text-align: right;\">\n",
              "      <th></th>\n",
              "      <th>land_area</th>\n",
              "      <th>percent_city</th>\n",
              "      <th>percent_senior</th>\n",
              "      <th>physicians</th>\n",
              "      <th>hospital_beds</th>\n",
              "      <th>graduates</th>\n",
              "      <th>work_force</th>\n",
              "      <th>income</th>\n",
              "      <th>region</th>\n",
              "      <th>crime_rate</th>\n",
              "    </tr>\n",
              "  </thead>\n",
              "  <tbody>\n",
              "    <tr>\n",
              "      <th>0</th>\n",
              "      <td>1384</td>\n",
              "      <td>78.1</td>\n",
              "      <td>12.3</td>\n",
              "      <td>25627</td>\n",
              "      <td>69678</td>\n",
              "      <td>50.1</td>\n",
              "      <td>4083.9</td>\n",
              "      <td>72100</td>\n",
              "      <td>1</td>\n",
              "      <td>75.55</td>\n",
              "    </tr>\n",
              "    <tr>\n",
              "      <th>1</th>\n",
              "      <td>3719</td>\n",
              "      <td>43.9</td>\n",
              "      <td>9.4</td>\n",
              "      <td>13326</td>\n",
              "      <td>43292</td>\n",
              "      <td>53.9</td>\n",
              "      <td>3305.9</td>\n",
              "      <td>54542</td>\n",
              "      <td>2</td>\n",
              "      <td>56.03</td>\n",
              "    </tr>\n",
              "    <tr>\n",
              "      <th>2</th>\n",
              "      <td>3553</td>\n",
              "      <td>37.4</td>\n",
              "      <td>10.7</td>\n",
              "      <td>9724</td>\n",
              "      <td>33731</td>\n",
              "      <td>50.6</td>\n",
              "      <td>2066.3</td>\n",
              "      <td>33216</td>\n",
              "      <td>1</td>\n",
              "      <td>41.32</td>\n",
              "    </tr>\n",
              "    <tr>\n",
              "      <th>3</th>\n",
              "      <td>3916</td>\n",
              "      <td>29.9</td>\n",
              "      <td>8.8</td>\n",
              "      <td>6402</td>\n",
              "      <td>24167</td>\n",
              "      <td>52.2</td>\n",
              "      <td>1966.7</td>\n",
              "      <td>32906</td>\n",
              "      <td>2</td>\n",
              "      <td>67.38</td>\n",
              "    </tr>\n",
              "    <tr>\n",
              "      <th>4</th>\n",
              "      <td>2480</td>\n",
              "      <td>31.5</td>\n",
              "      <td>10.5</td>\n",
              "      <td>8502</td>\n",
              "      <td>16751</td>\n",
              "      <td>66.1</td>\n",
              "      <td>1514.5</td>\n",
              "      <td>26573</td>\n",
              "      <td>4</td>\n",
              "      <td>80.19</td>\n",
              "    </tr>\n",
              "  </tbody>\n",
              "</table>\n",
              "</div>"
            ],
            "text/plain": [
              "   land_area  percent_city  percent_senior  ...  income  region  crime_rate\n",
              "0       1384          78.1            12.3  ...   72100       1       75.55\n",
              "1       3719          43.9             9.4  ...   54542       2       56.03\n",
              "2       3553          37.4            10.7  ...   33216       1       41.32\n",
              "3       3916          29.9             8.8  ...   32906       2       67.38\n",
              "4       2480          31.5            10.5  ...   26573       4       80.19\n",
              "\n",
              "[5 rows x 10 columns]"
            ]
          },
          "metadata": {
            "tags": []
          },
          "execution_count": 4
        }
      ]
    },
    {
      "cell_type": "markdown",
      "metadata": {
        "id": "zbY0tVExRakg",
        "colab_type": "text"
      },
      "source": [
        "You can change the number of rows being displayed by specifying a number inside the head function.\n",
        "\n",
        "Let's look at 10 rows now"
      ]
    },
    {
      "cell_type": "code",
      "metadata": {
        "id": "RPm9KZxoRlyW",
        "colab_type": "code",
        "outputId": "c43d5a5c-f86e-4f7b-856a-e44c59d52a20",
        "colab": {
          "base_uri": "https://localhost:8080/",
          "height": 377
        }
      },
      "source": [
        "data.head(10)"
      ],
      "execution_count": 0,
      "outputs": [
        {
          "output_type": "execute_result",
          "data": {
            "text/html": [
              "<div>\n",
              "<style scoped>\n",
              "    .dataframe tbody tr th:only-of-type {\n",
              "        vertical-align: middle;\n",
              "    }\n",
              "\n",
              "    .dataframe tbody tr th {\n",
              "        vertical-align: top;\n",
              "    }\n",
              "\n",
              "    .dataframe thead th {\n",
              "        text-align: right;\n",
              "    }\n",
              "</style>\n",
              "<table border=\"1\" class=\"dataframe\">\n",
              "  <thead>\n",
              "    <tr style=\"text-align: right;\">\n",
              "      <th></th>\n",
              "      <th>land_area</th>\n",
              "      <th>percent_city</th>\n",
              "      <th>percent_senior</th>\n",
              "      <th>physicians</th>\n",
              "      <th>hospital_beds</th>\n",
              "      <th>graduates</th>\n",
              "      <th>work_force</th>\n",
              "      <th>income</th>\n",
              "      <th>region</th>\n",
              "      <th>crime_rate</th>\n",
              "    </tr>\n",
              "  </thead>\n",
              "  <tbody>\n",
              "    <tr>\n",
              "      <th>0</th>\n",
              "      <td>1384</td>\n",
              "      <td>78.1</td>\n",
              "      <td>12.3</td>\n",
              "      <td>25627</td>\n",
              "      <td>69678</td>\n",
              "      <td>50.1</td>\n",
              "      <td>4083.9</td>\n",
              "      <td>72100</td>\n",
              "      <td>1</td>\n",
              "      <td>75.55</td>\n",
              "    </tr>\n",
              "    <tr>\n",
              "      <th>1</th>\n",
              "      <td>3719</td>\n",
              "      <td>43.9</td>\n",
              "      <td>9.4</td>\n",
              "      <td>13326</td>\n",
              "      <td>43292</td>\n",
              "      <td>53.9</td>\n",
              "      <td>3305.9</td>\n",
              "      <td>54542</td>\n",
              "      <td>2</td>\n",
              "      <td>56.03</td>\n",
              "    </tr>\n",
              "    <tr>\n",
              "      <th>2</th>\n",
              "      <td>3553</td>\n",
              "      <td>37.4</td>\n",
              "      <td>10.7</td>\n",
              "      <td>9724</td>\n",
              "      <td>33731</td>\n",
              "      <td>50.6</td>\n",
              "      <td>2066.3</td>\n",
              "      <td>33216</td>\n",
              "      <td>1</td>\n",
              "      <td>41.32</td>\n",
              "    </tr>\n",
              "    <tr>\n",
              "      <th>3</th>\n",
              "      <td>3916</td>\n",
              "      <td>29.9</td>\n",
              "      <td>8.8</td>\n",
              "      <td>6402</td>\n",
              "      <td>24167</td>\n",
              "      <td>52.2</td>\n",
              "      <td>1966.7</td>\n",
              "      <td>32906</td>\n",
              "      <td>2</td>\n",
              "      <td>67.38</td>\n",
              "    </tr>\n",
              "    <tr>\n",
              "      <th>4</th>\n",
              "      <td>2480</td>\n",
              "      <td>31.5</td>\n",
              "      <td>10.5</td>\n",
              "      <td>8502</td>\n",
              "      <td>16751</td>\n",
              "      <td>66.1</td>\n",
              "      <td>1514.5</td>\n",
              "      <td>26573</td>\n",
              "      <td>4</td>\n",
              "      <td>80.19</td>\n",
              "    </tr>\n",
              "    <tr>\n",
              "      <th>5</th>\n",
              "      <td>2815</td>\n",
              "      <td>23.1</td>\n",
              "      <td>6.7</td>\n",
              "      <td>7340</td>\n",
              "      <td>16941</td>\n",
              "      <td>68.3</td>\n",
              "      <td>1541.9</td>\n",
              "      <td>25663</td>\n",
              "      <td>3</td>\n",
              "      <td>58.48</td>\n",
              "    </tr>\n",
              "    <tr>\n",
              "      <th>6</th>\n",
              "      <td>8360</td>\n",
              "      <td>46.3</td>\n",
              "      <td>8.2</td>\n",
              "      <td>4047</td>\n",
              "      <td>14347</td>\n",
              "      <td>53.6</td>\n",
              "      <td>1321.2</td>\n",
              "      <td>18350</td>\n",
              "      <td>3</td>\n",
              "      <td>72.25</td>\n",
              "    </tr>\n",
              "    <tr>\n",
              "      <th>7</th>\n",
              "      <td>6794</td>\n",
              "      <td>60.1</td>\n",
              "      <td>6.3</td>\n",
              "      <td>4562</td>\n",
              "      <td>14333</td>\n",
              "      <td>51.7</td>\n",
              "      <td>1272.7</td>\n",
              "      <td>18221</td>\n",
              "      <td>3</td>\n",
              "      <td>64.88</td>\n",
              "    </tr>\n",
              "    <tr>\n",
              "      <th>8</th>\n",
              "      <td>3049</td>\n",
              "      <td>19.5</td>\n",
              "      <td>12.1</td>\n",
              "      <td>4005</td>\n",
              "      <td>21149</td>\n",
              "      <td>53.4</td>\n",
              "      <td>967.5</td>\n",
              "      <td>15826</td>\n",
              "      <td>1</td>\n",
              "      <td>30.51</td>\n",
              "    </tr>\n",
              "    <tr>\n",
              "      <th>9</th>\n",
              "      <td>4647</td>\n",
              "      <td>31.5</td>\n",
              "      <td>9.2</td>\n",
              "      <td>3916</td>\n",
              "      <td>12815</td>\n",
              "      <td>65.1</td>\n",
              "      <td>1032.2</td>\n",
              "      <td>14542</td>\n",
              "      <td>2</td>\n",
              "      <td>55.30</td>\n",
              "    </tr>\n",
              "  </tbody>\n",
              "</table>\n",
              "</div>"
            ],
            "text/plain": [
              "   land_area  percent_city  percent_senior  ...  income  region  crime_rate\n",
              "0       1384          78.1            12.3  ...   72100       1       75.55\n",
              "1       3719          43.9             9.4  ...   54542       2       56.03\n",
              "2       3553          37.4            10.7  ...   33216       1       41.32\n",
              "3       3916          29.9             8.8  ...   32906       2       67.38\n",
              "4       2480          31.5            10.5  ...   26573       4       80.19\n",
              "5       2815          23.1             6.7  ...   25663       3       58.48\n",
              "6       8360          46.3             8.2  ...   18350       3       72.25\n",
              "7       6794          60.1             6.3  ...   18221       3       64.88\n",
              "8       3049          19.5            12.1  ...   15826       1       30.51\n",
              "9       4647          31.5             9.2  ...   14542       2       55.30\n",
              "\n",
              "[10 rows x 10 columns]"
            ]
          },
          "metadata": {
            "tags": []
          },
          "execution_count": 5
        }
      ]
    },
    {
      "cell_type": "markdown",
      "metadata": {
        "id": "92ODtis-RrMc",
        "colab_type": "text"
      },
      "source": [
        "What we can gather from the displayed data is that we have 7 columns/ 7 features.\n",
        "\n",
        "We have the following description about each of these columns already:\n",
        "\n",
        "1. **land_area\t:** size in square miles\n",
        "2. **percent_city\t:** percent of population in central city/cities\n",
        "3. **percent_senior\t:** percent of population ≤ 65 years\n",
        "4. **physicians\t:** number of professionally active physicians\n",
        "5. **hospital_beds :** total number of hospital beds\n",
        "6. **graduates :** percent of adults that finished high school\n",
        "7. **work_force\t:** number of persons in work force in thousands\n",
        "8. **income\t:** total income in 1976 in millions of dollars\n",
        "9. **crime_rate\t:** Ratio of number of serious crimes by total population\n",
        "10. **region :** geographic region according to US Census\n",
        "\n",
        "We can see that the regions have 4 values, where:\n",
        "\n",
        "1 = North-East\n",
        "\n",
        "2 = North-Central \n",
        "\n",
        "3 = South\n",
        "\n",
        "4 = West"
      ]
    },
    {
      "cell_type": "markdown",
      "metadata": {
        "id": "odB3syCwNYcH",
        "colab_type": "text"
      },
      "source": [
        "The info() function is used to print a concise summary of a DataFrame. This method prints information about a DataFrame including the index dtype and column dtypes, non-null values and memory usage. "
      ]
    },
    {
      "cell_type": "code",
      "metadata": {
        "id": "W5Cj057nH8-A",
        "colab_type": "code",
        "outputId": "c251d34e-d282-4ef9-e811-993b22ed551c",
        "colab": {
          "base_uri": "https://localhost:8080/",
          "height": 308
        }
      },
      "source": [
        "data.info()"
      ],
      "execution_count": 0,
      "outputs": [
        {
          "output_type": "stream",
          "text": [
            "<class 'pandas.core.frame.DataFrame'>\n",
            "RangeIndex: 99 entries, 0 to 98\n",
            "Data columns (total 10 columns):\n",
            " #   Column          Non-Null Count  Dtype  \n",
            "---  ------          --------------  -----  \n",
            " 0   land_area       99 non-null     int64  \n",
            " 1   percent_city    99 non-null     float64\n",
            " 2   percent_senior  99 non-null     float64\n",
            " 3   physicians      99 non-null     int64  \n",
            " 4   hospital_beds   99 non-null     int64  \n",
            " 5   graduates       99 non-null     float64\n",
            " 6   work_force      99 non-null     float64\n",
            " 7   income          99 non-null     int64  \n",
            " 8   region          99 non-null     int64  \n",
            " 9   crime_rate      99 non-null     float64\n",
            "dtypes: float64(5), int64(5)\n",
            "memory usage: 7.9 KB\n"
          ],
          "name": "stdout"
        }
      ]
    },
    {
      "cell_type": "markdown",
      "metadata": {
        "id": "_sDnVXALTE2a",
        "colab_type": "text"
      },
      "source": [
        "Using the info function we get to know that the data has 99 entries(rows) and all of the columns contain 99 non-null entries. This indicates that we don't have any null value.\n",
        "\n",
        "Also, our data consists of float and integer values."
      ]
    },
    {
      "cell_type": "markdown",
      "metadata": {
        "id": "bchmlg-JUxlR",
        "colab_type": "text"
      },
      "source": [
        "## Solutions"
      ]
    },
    {
      "cell_type": "markdown",
      "metadata": {
        "id": "lqgSm4G_Tb9S",
        "colab_type": "text"
      },
      "source": [
        "Now that we've had a good look of our dataset, we can start solving the questions.\n",
        "\n"
      ]
    },
    {
      "cell_type": "markdown",
      "metadata": {
        "id": "H6jzZUrDUghX",
        "colab_type": "text"
      },
      "source": [
        "**Question 1:**\n",
        "Which of the following information is correct about the data?\n",
        "\n",
        "Select one:\n",
        "\n",
        "a. There are 4 variables of 'float' dtype, 5 variables of 'int' dtype.\n",
        "\n",
        "b. There are 6 variables of 'float' dtype, 4 variables of 'int' dtype\n",
        "\n",
        "c. There are 3 variables of 'float' dtype, 7 variables of 'int' dtype\n",
        "\n",
        "d. There are 5 variables of 'float' dtype, 5 variables of 'int' dtype."
      ]
    },
    {
      "cell_type": "markdown",
      "metadata": {
        "id": "wzeFU6hjU6Q8",
        "colab_type": "text"
      },
      "source": [
        "**Answer 1:**\n",
        "\n",
        "This question demands the knowledge of data types of various features in our dataset.\n",
        "\n",
        "We can easily find that out using the info function. Using the resulting table of the info function used above, we can count the number of float and int variables.\n",
        "\n",
        "We can see that there exist 5 float variables( percent_city, percent_senior, graduates, work_force, crime_rate)\n",
        "\n",
        "Also, the number of int variables are also 5( land_area, physicians, hospital_beds, income, region)\n",
        "\n",
        "**The correct option for this question is therefore d** - There are 5 variables of 'float' dtype, 5 variables of 'int' dtype."
      ]
    },
    {
      "cell_type": "markdown",
      "metadata": {
        "id": "xGhYwA2oWgeY",
        "colab_type": "text"
      },
      "source": [
        "**Question 2:** Which of the following is true about bar chart and histogram?\n",
        "\n",
        "Select one or more:\n",
        "\n",
        "a. Histogram presents quantitative data while bar chart presents categorical data / discrete data.\n",
        "\n",
        "b. In histogram bars cannot be re-ordered while in bar charts bars can be re-ordered.\n",
        "\n",
        "c. Histogram indicates distribution of non - discrete variables.\n",
        "\n",
        "d. Bar chart indicates comparison of discrete variables / categorical variables."
      ]
    },
    {
      "cell_type": "markdown",
      "metadata": {
        "id": "aYE1Zp9wWu3g",
        "colab_type": "text"
      },
      "source": [
        "**Answer 2:**\n",
        "\n",
        "a. \n",
        "\n",
        "- A histogram displays the single quantitative variable along the x axis and frequency of that variable on the y axis.\n",
        "\n",
        "- Bar graphs can be used to represent both quantitative and categorical data. \n",
        "\n",
        "Both the statements are true and thus **option a is correct.**\n",
        "\n",
        "b. Bars can be reordered in bar charts but not in histograms. **Option b is correct.**\n",
        "\n",
        "c. This is because a histogram represents a continuous(non-discrete) data set, and as such, there are no gaps in the data. **Option c is correct.**\n",
        "\n",
        "d. It is True that Bar chart indicates comparison of discrete variables / categorical variables. **Option d is correct.**\n",
        "\n",
        "\n",
        "Thus, **all the options are correct.**"
      ]
    },
    {
      "cell_type": "markdown",
      "metadata": {
        "id": "93d_0DNFXFwT",
        "colab_type": "text"
      },
      "source": [
        "**Question 3:**\n",
        "\n",
        "Which of the following information is correct about the data?\n",
        "\n",
        "Select one or more:\n",
        "\n",
        "a. \n",
        "\n",
        "1) mean land areas of these Metropolitan areas = 2615.73\n",
        "\n",
        "2) maximum crime rate among all the Metropolitan areas = 85.62\n",
        "\n",
        "b.\n",
        "\n",
        "1) minimum income in million dollars of all the metropolitan areas = 769.00\n",
        "\n",
        "c.\n",
        "\n",
        "1) total count of non null entries in 'hospital_beds' = 99.0\n",
        "\n",
        "2) Most of the Metropolitan areas lie in region 3\n",
        "\n",
        "d.\n",
        "\n",
        "1) only 17 Metropolitan areas lie in region 4\n",
        "\n",
        "2) average crime rate in among the metropolitan areas = 55.64"
      ]
    },
    {
      "cell_type": "markdown",
      "metadata": {
        "id": "Zly4JFPAXgMW",
        "colab_type": "text"
      },
      "source": [
        "In such type of questions, we need to check all the options to find out which ones are True.\n",
        "\n",
        "Let's write the codes to check them one by one:"
      ]
    },
    {
      "cell_type": "markdown",
      "metadata": {
        "id": "2Nn5L_JWZ3XJ",
        "colab_type": "text"
      },
      "source": [
        "**Answer 3:**\n",
        "\n",
        "**a - 1) mean land areas of these Metropolitan areas = 2615.73**\n",
        "\n",
        "We can find the mean of the land area by Numpy's mean function.\n",
        "\n",
        "We need to provide the column name inside the brackets of the mean function"
      ]
    },
    {
      "cell_type": "markdown",
      "metadata": {
        "id": "UsNDvq3XagXg",
        "colab_type": "text"
      },
      "source": [
        "### Accessing DataFrame's columns\n",
        "Now, there are actually two methods of accessing a DataFrame's column: \n",
        "1. Square brackets ([])\n",
        "2. Dot operator (.)\n",
        "\n",
        "- They are the same as long you're accessing a single column with a simple name, but you can do more with the bracket notation. \n",
        "\n",
        "- You can only use df.col if the column name is a valid Python identifier (e.g., does not contains spaces and other such stuff). Also, you may encounter surprises if your column name clashes with a pandas method name (like sum). \n",
        "\n",
        "- With brackets you can select multiple columns (e.g., df[['col1', 'col2']]) or add a new column (df['newcol'] = ...), which can't be done with dot access."
      ]
    },
    {
      "cell_type": "code",
      "metadata": {
        "id": "yJs0EE9fIfJx",
        "colab_type": "code",
        "outputId": "2c4ca546-1303-4503-9b01-e32a18a502ed",
        "colab": {
          "base_uri": "https://localhost:8080/",
          "height": 34
        }
      },
      "source": [
        "# Dot notation\n",
        "np.mean(data.land_area)"
      ],
      "execution_count": 0,
      "outputs": [
        {
          "output_type": "execute_result",
          "data": {
            "text/plain": [
              "2615.7272727272725"
            ]
          },
          "metadata": {
            "tags": []
          },
          "execution_count": 7
        }
      ]
    },
    {
      "cell_type": "code",
      "metadata": {
        "id": "6puw8wzybemZ",
        "colab_type": "code",
        "outputId": "c40a9621-853b-41d3-a74a-f26f08207cde",
        "colab": {
          "base_uri": "https://localhost:8080/",
          "height": 34
        }
      },
      "source": [
        "# Bracket notation\n",
        "np.mean(data['land_area'])"
      ],
      "execution_count": 0,
      "outputs": [
        {
          "output_type": "execute_result",
          "data": {
            "text/plain": [
              "2615.7272727272725"
            ]
          },
          "metadata": {
            "tags": []
          },
          "execution_count": 8
        }
      ]
    },
    {
      "cell_type": "markdown",
      "metadata": {
        "id": "39OT-O_HcaOw",
        "colab_type": "text"
      },
      "source": [
        "Both of these work and provide us the same result. Now, you can see that the mean is represented till the 13th decimal place.\n",
        "\n",
        "We can use the round function to represent the same no. of decimal places in our mean as is displayed in the options."
      ]
    },
    {
      "cell_type": "code",
      "metadata": {
        "id": "ovOQsuV8cwLL",
        "colab_type": "code",
        "outputId": "dfbc1e5e-f495-4812-94b1-282184f409f1",
        "colab": {
          "base_uri": "https://localhost:8080/",
          "height": 34
        }
      },
      "source": [
        "import math #importing the math package for round function\n",
        "round(np.mean(data.land_area), 2) # The argument 2 represents to how many decimal places we want to round off"
      ],
      "execution_count": 0,
      "outputs": [
        {
          "output_type": "execute_result",
          "data": {
            "text/plain": [
              "2615.73"
            ]
          },
          "metadata": {
            "tags": []
          },
          "execution_count": 9
        }
      ]
    },
    {
      "cell_type": "markdown",
      "metadata": {
        "id": "bbUf5jvRdNB7",
        "colab_type": "text"
      },
      "source": [
        "Our answer is same as the option. Thus **a - 1) is correct**"
      ]
    },
    {
      "cell_type": "markdown",
      "metadata": {
        "id": "Yyor3TM-dhAf",
        "colab_type": "text"
      },
      "source": [
        "**a - 2) maximum crime rate among all the Metropolitan areas = 85.62**\n",
        "\n",
        "This requires us to use the max function on the crime_rate column."
      ]
    },
    {
      "cell_type": "code",
      "metadata": {
        "id": "AKHKYz57JqsM",
        "colab_type": "code",
        "outputId": "86a4d571-f18b-4990-849f-81f3d34f215d",
        "colab": {
          "base_uri": "https://localhost:8080/",
          "height": 34
        }
      },
      "source": [
        "max(data.crime_rate)"
      ],
      "execution_count": 0,
      "outputs": [
        {
          "output_type": "execute_result",
          "data": {
            "text/plain": [
              "85.62"
            ]
          },
          "metadata": {
            "tags": []
          },
          "execution_count": 10
        }
      ]
    },
    {
      "cell_type": "markdown",
      "metadata": {
        "id": "YdddaeYQd_gT",
        "colab_type": "text"
      },
      "source": [
        "We obtained the same result as specified in the option. Thus, **a- 2) is correct**\n",
        "\n",
        "Since both the parts of option a are correct, we can say that **a is correct**\n",
        "\n",
        "Let's find out if any of the other options is correct now."
      ]
    },
    {
      "cell_type": "markdown",
      "metadata": {
        "id": "00IcGbNUecKS",
        "colab_type": "text"
      },
      "source": [
        "**b - 1) minimum income in million dollars of all the metropolitan areas = 769.00**\n",
        "\n",
        "Similar to the previous option, we can use the min function on the income column\n",
        "\n"
      ]
    },
    {
      "cell_type": "code",
      "metadata": {
        "id": "bQFxHd21KK7P",
        "colab_type": "code",
        "outputId": "67b0f190-65a6-4063-fac0-afa935161f61",
        "colab": {
          "base_uri": "https://localhost:8080/",
          "height": 34
        }
      },
      "source": [
        "min(data.income)"
      ],
      "execution_count": 0,
      "outputs": [
        {
          "output_type": "execute_result",
          "data": {
            "text/plain": [
              "769"
            ]
          },
          "metadata": {
            "tags": []
          },
          "execution_count": 11
        }
      ]
    },
    {
      "cell_type": "markdown",
      "metadata": {
        "id": "IC6XGYawfFf2",
        "colab_type": "text"
      },
      "source": [
        "769.00 and 769 are the same. Thus, **option b is correct.**"
      ]
    },
    {
      "cell_type": "markdown",
      "metadata": {
        "id": "Z44GrNThfObL",
        "colab_type": "text"
      },
      "source": [
        "**c - 1) total count of non null entries in 'hospital_beds' = 99.0**\n",
        "\n",
        "We already know from the info function that we have 99 non null entries in each column. \n",
        "\n",
        "We can still confirm it with the notnull function of Pandas applied on the hospital_beds column"
      ]
    },
    {
      "cell_type": "code",
      "metadata": {
        "id": "fPH5YAkFKVu9",
        "colab_type": "code",
        "outputId": "6f1388f7-3595-4039-be8f-01d85a84aaec",
        "colab": {
          "base_uri": "https://localhost:8080/",
          "height": 223
        }
      },
      "source": [
        "pd.notnull(data['hospital_beds'])"
      ],
      "execution_count": 0,
      "outputs": [
        {
          "output_type": "execute_result",
          "data": {
            "text/plain": [
              "0     True\n",
              "1     True\n",
              "2     True\n",
              "3     True\n",
              "4     True\n",
              "      ... \n",
              "94    True\n",
              "95    True\n",
              "96    True\n",
              "97    True\n",
              "98    True\n",
              "Name: hospital_beds, Length: 99, dtype: bool"
            ]
          },
          "metadata": {
            "tags": []
          },
          "execution_count": 12
        }
      ]
    },
    {
      "cell_type": "markdown",
      "metadata": {
        "id": "8W3skfM_hZbg",
        "colab_type": "text"
      },
      "source": [
        "The length 99 means that there are non null 99 entries/ rows in the column.\n",
        "\n",
        "Thus, **c-1) is correct.**"
      ]
    },
    {
      "cell_type": "markdown",
      "metadata": {
        "id": "aoh2linhhxG6",
        "colab_type": "text"
      },
      "source": [
        "**c - 2) Most of the Metropolitan areas lie in region 3**\n",
        "\n",
        "The  The value_counts() method returns a Series containing the counts of unique values. This means, for any column in a dataframe, this method returns the count of unique entries in that column."
      ]
    },
    {
      "cell_type": "code",
      "metadata": {
        "id": "4_hio1HtLt0w",
        "colab_type": "code",
        "outputId": "c77c5e4e-f462-4d9c-d253-88c5d594d9df",
        "colab": {
          "base_uri": "https://localhost:8080/",
          "height": 103
        }
      },
      "source": [
        "data.region.value_counts()"
      ],
      "execution_count": 0,
      "outputs": [
        {
          "output_type": "execute_result",
          "data": {
            "text/plain": [
              "3    36\n",
              "2    25\n",
              "1    21\n",
              "4    17\n",
              "Name: region, dtype: int64"
            ]
          },
          "metadata": {
            "tags": []
          },
          "execution_count": 13
        }
      ]
    },
    {
      "cell_type": "markdown",
      "metadata": {
        "id": "PrDhjDS7ic4E",
        "colab_type": "text"
      },
      "source": [
        "The above code gives us the count of each region in the data['region'] column.\n",
        "\n",
        "We can see that region 3 has the maximum count - 36.\n",
        "\n",
        "Thus, **c-2) is correct.**\n",
        "\n",
        "Since both the parts of the option c are correct, we can say that the **option c is correct.**"
      ]
    },
    {
      "cell_type": "markdown",
      "metadata": {
        "id": "JL6se5D6jEW2",
        "colab_type": "text"
      },
      "source": [
        "**d - 1) only 17 Metropolitan areas lie in region 4**\n",
        "\n",
        "The answer for this can be obtained from the same result of the above code block. \n",
        "\n",
        "The region 4 has a count of 17 and thus **d - 1) is correct.**"
      ]
    },
    {
      "cell_type": "markdown",
      "metadata": {
        "id": "98P7JYxOjeox",
        "colab_type": "text"
      },
      "source": [
        "**d - 2) average crime rate in among the metropolitan areas = 55.64**\n",
        "\n",
        "For finding the average crime rate, we can apply mean function on the crime_rate column"
      ]
    },
    {
      "cell_type": "code",
      "metadata": {
        "id": "SQDIjlwfMsJo",
        "colab_type": "code",
        "outputId": "d3a2f4ba-c2dc-41a8-b37e-f1c8f439f59b",
        "colab": {
          "base_uri": "https://localhost:8080/",
          "height": 34
        }
      },
      "source": [
        "np.mean(data.crime_rate)"
      ],
      "execution_count": 0,
      "outputs": [
        {
          "output_type": "execute_result",
          "data": {
            "text/plain": [
              "55.64303030303031"
            ]
          },
          "metadata": {
            "tags": []
          },
          "execution_count": 14
        }
      ]
    },
    {
      "cell_type": "markdown",
      "metadata": {
        "id": "sp-NcB2tkRaU",
        "colab_type": "text"
      },
      "source": [
        "Again, we can round off the above result to get the exact mean. "
      ]
    },
    {
      "cell_type": "code",
      "metadata": {
        "id": "6jHeAxtSkY3o",
        "colab_type": "code",
        "outputId": "4309bf03-42e0-4c3f-8a96-db56d7fd2f65",
        "colab": {
          "base_uri": "https://localhost:8080/",
          "height": 34
        }
      },
      "source": [
        "round(np.mean(data.crime_rate),2)"
      ],
      "execution_count": 0,
      "outputs": [
        {
          "output_type": "execute_result",
          "data": {
            "text/plain": [
              "55.64"
            ]
          },
          "metadata": {
            "tags": []
          },
          "execution_count": 15
        }
      ]
    },
    {
      "cell_type": "markdown",
      "metadata": {
        "id": "E5kQ0zYxkilO",
        "colab_type": "text"
      },
      "source": [
        "The average crime rate obtained is same as that in the option. Thus, **d-2) is correct**\n",
        "\n",
        "Since both the parts of option d are correct, we can say that **option d is correct.**\n",
        "\n",
        "We have now proved that **all 4 options are correct.**"
      ]
    },
    {
      "cell_type": "markdown",
      "metadata": {
        "id": "eap854wAlEIv",
        "colab_type": "text"
      },
      "source": [
        "**Question 4:**\n",
        "\n",
        "Which of the following is the correct correlation matrix among the features of the dataset?\n",
        "\n",
        "Select one:"
      ]
    },
    {
      "cell_type": "markdown",
      "metadata": {
        "id": "0YGsLLeMKADi",
        "colab_type": "text"
      },
      "source": [
        " Option a: \n",
        " \n",
        " ![Option a](https://dphi.tech/wp-content/uploads/2020/06/question_3_option_1.png) "
      ]
    },
    {
      "cell_type": "markdown",
      "metadata": {
        "id": "R0bVc6cgKxj3",
        "colab_type": "text"
      },
      "source": [
        " Option b: \n",
        " \n",
        " ![Option b](https://dphi.tech/wp-content/uploads/2020/06/question_3_option_2.png) "
      ]
    },
    {
      "cell_type": "markdown",
      "metadata": {
        "id": "UpRLz1m9lPdy",
        "colab_type": "text"
      },
      "source": [
        "**Answer 4:**\n",
        "\n",
        "We can obtain a correlation matrix using the corr method. The correlation matrix obtained below is the same as given in option a. Thus, **option a is correct.**"
      ]
    },
    {
      "cell_type": "code",
      "metadata": {
        "id": "21fw7RMiNLBl",
        "colab_type": "code",
        "outputId": "55d812fc-2463-4bde-da04-ea03ba37dde2",
        "colab": {
          "base_uri": "https://localhost:8080/",
          "height": 377
        }
      },
      "source": [
        "data.corr()"
      ],
      "execution_count": 0,
      "outputs": [
        {
          "output_type": "execute_result",
          "data": {
            "text/html": [
              "<div>\n",
              "<style scoped>\n",
              "    .dataframe tbody tr th:only-of-type {\n",
              "        vertical-align: middle;\n",
              "    }\n",
              "\n",
              "    .dataframe tbody tr th {\n",
              "        vertical-align: top;\n",
              "    }\n",
              "\n",
              "    .dataframe thead th {\n",
              "        text-align: right;\n",
              "    }\n",
              "</style>\n",
              "<table border=\"1\" class=\"dataframe\">\n",
              "  <thead>\n",
              "    <tr style=\"text-align: right;\">\n",
              "      <th></th>\n",
              "      <th>land_area</th>\n",
              "      <th>percent_city</th>\n",
              "      <th>percent_senior</th>\n",
              "      <th>physicians</th>\n",
              "      <th>hospital_beds</th>\n",
              "      <th>graduates</th>\n",
              "      <th>work_force</th>\n",
              "      <th>income</th>\n",
              "      <th>region</th>\n",
              "      <th>crime_rate</th>\n",
              "    </tr>\n",
              "  </thead>\n",
              "  <tbody>\n",
              "    <tr>\n",
              "      <th>land_area</th>\n",
              "      <td>1.000000</td>\n",
              "      <td>-0.077320</td>\n",
              "      <td>0.092226</td>\n",
              "      <td>0.085054</td>\n",
              "      <td>0.081034</td>\n",
              "      <td>0.088728</td>\n",
              "      <td>0.135792</td>\n",
              "      <td>0.111404</td>\n",
              "      <td>0.292392</td>\n",
              "      <td>0.293907</td>\n",
              "    </tr>\n",
              "    <tr>\n",
              "      <th>percent_city</th>\n",
              "      <td>-0.077320</td>\n",
              "      <td>1.000000</td>\n",
              "      <td>-0.250995</td>\n",
              "      <td>0.067391</td>\n",
              "      <td>0.052898</td>\n",
              "      <td>0.076720</td>\n",
              "      <td>0.016011</td>\n",
              "      <td>0.019235</td>\n",
              "      <td>0.235880</td>\n",
              "      <td>0.159596</td>\n",
              "    </tr>\n",
              "    <tr>\n",
              "      <th>percent_senior</th>\n",
              "      <td>0.092226</td>\n",
              "      <td>-0.250995</td>\n",
              "      <td>1.000000</td>\n",
              "      <td>0.056454</td>\n",
              "      <td>0.083775</td>\n",
              "      <td>-0.155695</td>\n",
              "      <td>0.035240</td>\n",
              "      <td>0.046073</td>\n",
              "      <td>-0.242811</td>\n",
              "      <td>-0.177992</td>\n",
              "    </tr>\n",
              "    <tr>\n",
              "      <th>physicians</th>\n",
              "      <td>0.085054</td>\n",
              "      <td>0.067391</td>\n",
              "      <td>0.056454</td>\n",
              "      <td>1.000000</td>\n",
              "      <td>0.974241</td>\n",
              "      <td>0.049500</td>\n",
              "      <td>0.965597</td>\n",
              "      <td>0.976209</td>\n",
              "      <td>-0.140961</td>\n",
              "      <td>0.187763</td>\n",
              "    </tr>\n",
              "    <tr>\n",
              "      <th>hospital_beds</th>\n",
              "      <td>0.081034</td>\n",
              "      <td>0.052898</td>\n",
              "      <td>0.083775</td>\n",
              "      <td>0.974241</td>\n",
              "      <td>1.000000</td>\n",
              "      <td>-0.003892</td>\n",
              "      <td>0.967913</td>\n",
              "      <td>0.974416</td>\n",
              "      <td>-0.220305</td>\n",
              "      <td>0.109799</td>\n",
              "    </tr>\n",
              "    <tr>\n",
              "      <th>graduates</th>\n",
              "      <td>0.088728</td>\n",
              "      <td>0.076720</td>\n",
              "      <td>-0.155695</td>\n",
              "      <td>0.049500</td>\n",
              "      <td>-0.003892</td>\n",
              "      <td>1.000000</td>\n",
              "      <td>0.044054</td>\n",
              "      <td>0.045578</td>\n",
              "      <td>0.246226</td>\n",
              "      <td>0.290880</td>\n",
              "    </tr>\n",
              "    <tr>\n",
              "      <th>work_force</th>\n",
              "      <td>0.135792</td>\n",
              "      <td>0.016011</td>\n",
              "      <td>0.035240</td>\n",
              "      <td>0.965597</td>\n",
              "      <td>0.967913</td>\n",
              "      <td>0.044054</td>\n",
              "      <td>1.000000</td>\n",
              "      <td>0.996735</td>\n",
              "      <td>-0.144022</td>\n",
              "      <td>0.175945</td>\n",
              "    </tr>\n",
              "    <tr>\n",
              "      <th>income</th>\n",
              "      <td>0.111404</td>\n",
              "      <td>0.019235</td>\n",
              "      <td>0.046073</td>\n",
              "      <td>0.976209</td>\n",
              "      <td>0.974416</td>\n",
              "      <td>0.045578</td>\n",
              "      <td>0.996735</td>\n",
              "      <td>1.000000</td>\n",
              "      <td>-0.152016</td>\n",
              "      <td>0.175797</td>\n",
              "    </tr>\n",
              "    <tr>\n",
              "      <th>region</th>\n",
              "      <td>0.292392</td>\n",
              "      <td>0.235880</td>\n",
              "      <td>-0.242811</td>\n",
              "      <td>-0.140961</td>\n",
              "      <td>-0.220305</td>\n",
              "      <td>0.246226</td>\n",
              "      <td>-0.144022</td>\n",
              "      <td>-0.152016</td>\n",
              "      <td>1.000000</td>\n",
              "      <td>0.636192</td>\n",
              "    </tr>\n",
              "    <tr>\n",
              "      <th>crime_rate</th>\n",
              "      <td>0.293907</td>\n",
              "      <td>0.159596</td>\n",
              "      <td>-0.177992</td>\n",
              "      <td>0.187763</td>\n",
              "      <td>0.109799</td>\n",
              "      <td>0.290880</td>\n",
              "      <td>0.175945</td>\n",
              "      <td>0.175797</td>\n",
              "      <td>0.636192</td>\n",
              "      <td>1.000000</td>\n",
              "    </tr>\n",
              "  </tbody>\n",
              "</table>\n",
              "</div>"
            ],
            "text/plain": [
              "                land_area  percent_city  ...    region  crime_rate\n",
              "land_area        1.000000     -0.077320  ...  0.292392    0.293907\n",
              "percent_city    -0.077320      1.000000  ...  0.235880    0.159596\n",
              "percent_senior   0.092226     -0.250995  ... -0.242811   -0.177992\n",
              "physicians       0.085054      0.067391  ... -0.140961    0.187763\n",
              "hospital_beds    0.081034      0.052898  ... -0.220305    0.109799\n",
              "graduates        0.088728      0.076720  ...  0.246226    0.290880\n",
              "work_force       0.135792      0.016011  ... -0.144022    0.175945\n",
              "income           0.111404      0.019235  ... -0.152016    0.175797\n",
              "region           0.292392      0.235880  ...  1.000000    0.636192\n",
              "crime_rate       0.293907      0.159596  ...  0.636192    1.000000\n",
              "\n",
              "[10 rows x 10 columns]"
            ]
          },
          "metadata": {
            "tags": []
          },
          "execution_count": 16
        }
      ]
    },
    {
      "cell_type": "markdown",
      "metadata": {
        "id": "xiSWysJjmBMX",
        "colab_type": "text"
      },
      "source": [
        "**Question 5:**\n",
        "\n",
        "Which of the following is the first five land area of the metropolitan area data which are located in region 4?\n",
        "\n",
        "Select one:\n",
        "\n",
        " Option a: \n",
        " \n",
        " ![Option a](https://dphi.tech/wp-content/uploads/2020/06/q4o4.png) \n",
        "\n",
        " Option b: \n",
        " \n",
        " ![Option b](https://dphi.tech/wp-content/uploads/2020/06/q4o2.png) \n",
        "\n",
        " Option c: \n",
        " \n",
        " ![Option c](https://dphi.tech/wp-content/uploads/2020/06/q4o3.png) \n",
        "\n",
        "Option d: \n",
        " \n",
        " ![Option d](https://dphi.tech/wp-content/uploads/2020/06/q4o1.png) \n"
      ]
    },
    {
      "cell_type": "markdown",
      "metadata": {
        "id": "kwBh3LV8mNAy",
        "colab_type": "text"
      },
      "source": [
        "**Answer 5:**\n",
        "\n",
        "This question involves **conditional selection of columns.**\n",
        "\n",
        "- The == operator is a comparison operator. If the values of two operands on either side are equal, then the condition becomes true.\n",
        "\n",
        "- The condition data['region']==4 checks if the region of an entry is 4. \n",
        "\n",
        "- data[data['region']==4] finds out all those columns that satisfy the condition specified.\n",
        "\n",
        "- data[data['region']==4]['land_area'] selects the land_area column from the data\n",
        "\n",
        "- Finally, data[data['region']==4]['land_area'].head() picks the top 5 rows as the question demands first five land area.\n"
      ]
    },
    {
      "cell_type": "code",
      "metadata": {
        "id": "MUK9xs8nmVHt",
        "colab_type": "code",
        "outputId": "b87eed25-c6dc-4afd-a2cb-f83a3f38cc23",
        "colab": {
          "base_uri": "https://localhost:8080/",
          "height": 120
        }
      },
      "source": [
        "data[data['region']==4]['land_area'].head()"
      ],
      "execution_count": 0,
      "outputs": [
        {
          "output_type": "execute_result",
          "data": {
            "text/plain": [
              "4      2480\n",
              "13      782\n",
              "14     4226\n",
              "18    27293\n",
              "20     9155\n",
              "Name: land_area, dtype: int64"
            ]
          },
          "metadata": {
            "tags": []
          },
          "execution_count": 28
        }
      ]
    },
    {
      "cell_type": "markdown",
      "metadata": {
        "id": "pNHOKc6-nyIV",
        "colab_type": "text"
      },
      "source": [
        "Since the above output matches the option d, **option d is correct**"
      ]
    },
    {
      "cell_type": "markdown",
      "metadata": {
        "id": "xRUYTmHkoDVP",
        "colab_type": "text"
      },
      "source": [
        "**Question 6:**\n",
        "\n",
        "Which of the following information is correct about Standard Metropolitan Data?\n",
        "\n",
        "Select one or more:\n",
        "\n",
        "a. There isn't any Metropolitan area which is located in region 4 and crime rate is 55.64.\n",
        "\n",
        "b. There are 4 Metropolitan area which is located in region 1 and their crime rate is greater than or equal to 54.16\n",
        "\n",
        "c. There is one Metropolitan area whose crime rate is 85.62 and is located in region 4.\n",
        "\n",
        "d. There are 40 Metropolitan area which is located in region 3 or have land area greater than or equal to 5000"
      ]
    },
    {
      "cell_type": "markdown",
      "metadata": {
        "id": "QbCiM8rPoOTt",
        "colab_type": "text"
      },
      "source": [
        "**Answer 6:**\n",
        "\n",
        "This question involves the concept of conditional selection along with combining 2 conditions with the Logical Operators( and, or, not)\n",
        "\n",
        "**a. There isn't any Metropolitan area which is located in region 4 and crime rate is 55.64.**"
      ]
    },
    {
      "cell_type": "code",
      "metadata": {
        "id": "30qFzf2go3Lq",
        "colab_type": "code",
        "outputId": "c552258f-bdd7-4e87-ab7d-63b44dfea23e",
        "colab": {
          "base_uri": "https://localhost:8080/",
          "height": 68
        }
      },
      "source": [
        "data[(data['region']==4) & (round(data['crime_rate'],2)==55.46)]"
      ],
      "execution_count": 0,
      "outputs": [
        {
          "output_type": "execute_result",
          "data": {
            "text/html": [
              "<div>\n",
              "<style scoped>\n",
              "    .dataframe tbody tr th:only-of-type {\n",
              "        vertical-align: middle;\n",
              "    }\n",
              "\n",
              "    .dataframe tbody tr th {\n",
              "        vertical-align: top;\n",
              "    }\n",
              "\n",
              "    .dataframe thead th {\n",
              "        text-align: right;\n",
              "    }\n",
              "</style>\n",
              "<table border=\"1\" class=\"dataframe\">\n",
              "  <thead>\n",
              "    <tr style=\"text-align: right;\">\n",
              "      <th></th>\n",
              "      <th>land_area</th>\n",
              "      <th>percent_city</th>\n",
              "      <th>percent_senior</th>\n",
              "      <th>physicians</th>\n",
              "      <th>hospital_beds</th>\n",
              "      <th>graduates</th>\n",
              "      <th>work_force</th>\n",
              "      <th>income</th>\n",
              "      <th>region</th>\n",
              "      <th>crime_rate</th>\n",
              "    </tr>\n",
              "  </thead>\n",
              "  <tbody>\n",
              "  </tbody>\n",
              "</table>\n",
              "</div>"
            ],
            "text/plain": [
              "Empty DataFrame\n",
              "Columns: [land_area, percent_city, percent_senior, physicians, hospital_beds, graduates, work_force, income, region, crime_rate]\n",
              "Index: []"
            ]
          },
          "metadata": {
            "tags": []
          },
          "execution_count": 18
        }
      ]
    },
    {
      "cell_type": "markdown",
      "metadata": {
        "id": "IOZoA9CvpOx5",
        "colab_type": "text"
      },
      "source": [
        "We obtained an empty table. This means that there isn't any Metropolitan area which is located in region 4 and crime rate is 55.64.\n",
        "\n",
        "Thus, **option a is correct.**"
      ]
    },
    {
      "cell_type": "markdown",
      "metadata": {
        "id": "gPD-Dj3cpagZ",
        "colab_type": "text"
      },
      "source": [
        "**b. There are 4 Metropolitan area which is located in region 1 and their crime rate is greater than or equal to 54.16**"
      ]
    },
    {
      "cell_type": "code",
      "metadata": {
        "id": "Zg0B6IhZphvk",
        "colab_type": "code",
        "outputId": "d9d963dc-8e81-4c7e-c4ae-4f903d8c4a82",
        "colab": {
          "base_uri": "https://localhost:8080/",
          "height": 192
        }
      },
      "source": [
        "data[(data['region']==1) & (round(data['crime_rate'],2)>=54.16)]"
      ],
      "execution_count": 0,
      "outputs": [
        {
          "output_type": "execute_result",
          "data": {
            "text/html": [
              "<div>\n",
              "<style scoped>\n",
              "    .dataframe tbody tr th:only-of-type {\n",
              "        vertical-align: middle;\n",
              "    }\n",
              "\n",
              "    .dataframe tbody tr th {\n",
              "        vertical-align: top;\n",
              "    }\n",
              "\n",
              "    .dataframe thead th {\n",
              "        text-align: right;\n",
              "    }\n",
              "</style>\n",
              "<table border=\"1\" class=\"dataframe\">\n",
              "  <thead>\n",
              "    <tr style=\"text-align: right;\">\n",
              "      <th></th>\n",
              "      <th>land_area</th>\n",
              "      <th>percent_city</th>\n",
              "      <th>percent_senior</th>\n",
              "      <th>physicians</th>\n",
              "      <th>hospital_beds</th>\n",
              "      <th>graduates</th>\n",
              "      <th>work_force</th>\n",
              "      <th>income</th>\n",
              "      <th>region</th>\n",
              "      <th>crime_rate</th>\n",
              "    </tr>\n",
              "  </thead>\n",
              "  <tbody>\n",
              "    <tr>\n",
              "      <th>0</th>\n",
              "      <td>1384</td>\n",
              "      <td>78.1</td>\n",
              "      <td>12.3</td>\n",
              "      <td>25627</td>\n",
              "      <td>69678</td>\n",
              "      <td>50.1</td>\n",
              "      <td>4083.9</td>\n",
              "      <td>72100</td>\n",
              "      <td>1</td>\n",
              "      <td>75.55</td>\n",
              "    </tr>\n",
              "    <tr>\n",
              "      <th>10</th>\n",
              "      <td>1008</td>\n",
              "      <td>16.6</td>\n",
              "      <td>10.3</td>\n",
              "      <td>4006</td>\n",
              "      <td>16704</td>\n",
              "      <td>55.9</td>\n",
              "      <td>935.5</td>\n",
              "      <td>15953</td>\n",
              "      <td>1</td>\n",
              "      <td>54.16</td>\n",
              "    </tr>\n",
              "    <tr>\n",
              "      <th>24</th>\n",
              "      <td>2966</td>\n",
              "      <td>26.9</td>\n",
              "      <td>10.3</td>\n",
              "      <td>2053</td>\n",
              "      <td>6604</td>\n",
              "      <td>56.3</td>\n",
              "      <td>450.4</td>\n",
              "      <td>6966</td>\n",
              "      <td>1</td>\n",
              "      <td>56.55</td>\n",
              "    </tr>\n",
              "    <tr>\n",
              "      <th>55</th>\n",
              "      <td>192</td>\n",
              "      <td>60.5</td>\n",
              "      <td>10.8</td>\n",
              "      <td>617</td>\n",
              "      <td>1789</td>\n",
              "      <td>44.1</td>\n",
              "      <td>212.6</td>\n",
              "      <td>3158</td>\n",
              "      <td>1</td>\n",
              "      <td>58.79</td>\n",
              "    </tr>\n",
              "  </tbody>\n",
              "</table>\n",
              "</div>"
            ],
            "text/plain": [
              "    land_area  percent_city  percent_senior  ...  income  region  crime_rate\n",
              "0        1384          78.1            12.3  ...   72100       1       75.55\n",
              "10       1008          16.6            10.3  ...   15953       1       54.16\n",
              "24       2966          26.9            10.3  ...    6966       1       56.55\n",
              "55        192          60.5            10.8  ...    3158       1       58.79\n",
              "\n",
              "[4 rows x 10 columns]"
            ]
          },
          "metadata": {
            "tags": []
          },
          "execution_count": 19
        }
      ]
    },
    {
      "cell_type": "markdown",
      "metadata": {
        "id": "jagu5yQnpoiU",
        "colab_type": "text"
      },
      "source": [
        "Since we have 4 records in the above result, the **option b is correct.**"
      ]
    },
    {
      "cell_type": "markdown",
      "metadata": {
        "id": "TXyFu88-pxIe",
        "colab_type": "text"
      },
      "source": [
        "**c. There is one Metropolitan area whose crime rate is 85.62 and is located in region 4.**"
      ]
    },
    {
      "cell_type": "code",
      "metadata": {
        "id": "6Sxr57__p-Cr",
        "colab_type": "code",
        "outputId": "051c739f-0250-4de9-f4a2-11f12e170328",
        "colab": {
          "base_uri": "https://localhost:8080/",
          "height": 99
        }
      },
      "source": [
        "data[(data['region']==4) & (round(data['crime_rate'],2)==85.62)]"
      ],
      "execution_count": 0,
      "outputs": [
        {
          "output_type": "execute_result",
          "data": {
            "text/html": [
              "<div>\n",
              "<style scoped>\n",
              "    .dataframe tbody tr th:only-of-type {\n",
              "        vertical-align: middle;\n",
              "    }\n",
              "\n",
              "    .dataframe tbody tr th {\n",
              "        vertical-align: top;\n",
              "    }\n",
              "\n",
              "    .dataframe thead th {\n",
              "        text-align: right;\n",
              "    }\n",
              "</style>\n",
              "<table border=\"1\" class=\"dataframe\">\n",
              "  <thead>\n",
              "    <tr style=\"text-align: right;\">\n",
              "      <th></th>\n",
              "      <th>land_area</th>\n",
              "      <th>percent_city</th>\n",
              "      <th>percent_senior</th>\n",
              "      <th>physicians</th>\n",
              "      <th>hospital_beds</th>\n",
              "      <th>graduates</th>\n",
              "      <th>work_force</th>\n",
              "      <th>income</th>\n",
              "      <th>region</th>\n",
              "      <th>crime_rate</th>\n",
              "    </tr>\n",
              "  </thead>\n",
              "  <tbody>\n",
              "    <tr>\n",
              "      <th>20</th>\n",
              "      <td>9155</td>\n",
              "      <td>53.8</td>\n",
              "      <td>11.1</td>\n",
              "      <td>2280</td>\n",
              "      <td>6450</td>\n",
              "      <td>60.1</td>\n",
              "      <td>575.2</td>\n",
              "      <td>7766</td>\n",
              "      <td>4</td>\n",
              "      <td>85.62</td>\n",
              "    </tr>\n",
              "  </tbody>\n",
              "</table>\n",
              "</div>"
            ],
            "text/plain": [
              "    land_area  percent_city  percent_senior  ...  income  region  crime_rate\n",
              "20       9155          53.8            11.1  ...    7766       4       85.62\n",
              "\n",
              "[1 rows x 10 columns]"
            ]
          },
          "metadata": {
            "tags": []
          },
          "execution_count": 20
        }
      ]
    },
    {
      "cell_type": "markdown",
      "metadata": {
        "id": "CAVMXD0Ap6IC",
        "colab_type": "text"
      },
      "source": [
        "We recieved 1 entry that satisfied the above conditions. Thus, **option c is correct.**"
      ]
    },
    {
      "cell_type": "markdown",
      "metadata": {
        "id": "5Moe0DfTqRJM",
        "colab_type": "text"
      },
      "source": [
        "**d. There are 40 Metropolitan area which are located in region 3 or have land area greater than or equal to 5000**"
      ]
    },
    {
      "cell_type": "code",
      "metadata": {
        "id": "AqqQdKo9NqkJ",
        "colab_type": "code",
        "outputId": "caa8d526-c013-4269-b332-d401a5d8fd18",
        "colab": {
          "base_uri": "https://localhost:8080/",
          "height": 34
        }
      },
      "source": [
        "len(data[(data['region']==3) | (data['land_area']>=5000)])"
      ],
      "execution_count": 0,
      "outputs": [
        {
          "output_type": "execute_result",
          "data": {
            "text/plain": [
              "41"
            ]
          },
          "metadata": {
            "tags": []
          },
          "execution_count": 21
        }
      ]
    },
    {
      "cell_type": "markdown",
      "metadata": {
        "id": "vsb1iXyNqv79",
        "colab_type": "text"
      },
      "source": [
        "There are 41 Metropolitan area which are located in region 3 or have land area greater than or equal to 5000. Thus the **option d is incorrect.**\n",
        "\n",
        "**Options a,b,c are correct.**"
      ]
    },
    {
      "cell_type": "markdown",
      "metadata": {
        "id": "RoHo_tewrBYc",
        "colab_type": "text"
      },
      "source": [
        "**Question 7:**\n",
        "\n",
        "Which of the following is the correct line plot between land area and crime rate?\n",
        "\n",
        "Select one:\n",
        "\n",
        "\n",
        "Option a: \n",
        " \n",
        " ![Option a](https://dphi.tech/wp-content/uploads/2020/06/q6o4.png)\n",
        "\n",
        "  Option b: \n",
        " \n",
        " ![Option b](https://dphi.tech/wp-content/uploads/2020/06/q6o2.png)\n",
        "\n",
        " Option c: \n",
        " \n",
        " ![Option c](https://dphi.tech/wp-content/uploads/2020/06/q6o1.png)\n",
        "\n",
        "Option d: \n",
        " \n",
        " ![Option d](https://dphi.tech/wp-content/uploads/2020/06/q6o3.png)"
      ]
    },
    {
      "cell_type": "markdown",
      "metadata": {
        "id": "g1Hlil3ZrMgL",
        "colab_type": "text"
      },
      "source": [
        "**Answer 7:**\n",
        "\n",
        "We'll use the plot function of Matplotlib to draw a line plot between land area and crime rate "
      ]
    },
    {
      "cell_type": "code",
      "metadata": {
        "id": "7S2bkj1zQ7If",
        "colab_type": "code",
        "outputId": "fe62495d-f226-461d-d047-686260395fbe",
        "colab": {
          "base_uri": "https://localhost:8080/",
          "height": 282
        }
      },
      "source": [
        "plt.plot(data.land_area, data.crime_rate)"
      ],
      "execution_count": 0,
      "outputs": [
        {
          "output_type": "execute_result",
          "data": {
            "text/plain": [
              "[<matplotlib.lines.Line2D at 0x7fbcff86d668>]"
            ]
          },
          "metadata": {
            "tags": []
          },
          "execution_count": 22
        },
        {
          "output_type": "display_data",
          "data": {
            "image/png": "[encoded data removed]",
            "text/plain": [
              "<Figure size 432x288 with 1 Axes>"
            ]
          },
          "metadata": {
            "tags": [],
            "needs_background": "light"
          }
        }
      ]
    },
    {
      "cell_type": "markdown",
      "metadata": {
        "id": "AnTjNq4Sra9q",
        "colab_type": "text"
      },
      "source": [
        "Since the plot matches with option a, **Option a is correct.**"
      ]
    },
    {
      "cell_type": "markdown",
      "metadata": {
        "id": "6T8N8XoDrrGN",
        "colab_type": "text"
      },
      "source": [
        "**Question 8:**\n",
        "\n",
        "Which of the following correlation information is correct between two variables.\n",
        "\n",
        "Select one:\n",
        "\n",
        "a There is a positive correlation between 'hospital_beds' and 'physicians' and its scatter plot is:\n",
        " \n",
        " ![Option a](https://dphi.tech/wp-content/uploads/2020/06/q7o1.png)\n",
        "\n",
        "\n",
        "b. There is a positive correlation between 'hospital_beds' and 'physicians' and its scatter plot is: \n",
        " \n",
        " ![Option b](https://dphi.tech/wp-content/uploads/2020/06/q7o1.png)\n",
        "\n",
        "c. There is a negative correlation between 'hospital_beds' and 'physicians' and its scatter plot is:\n",
        "\n",
        " ![Option c](https://dphi.tech/wp-content/uploads/2020/06/q7o2.png)"
      ]
    },
    {
      "cell_type": "markdown",
      "metadata": {
        "id": "DmjQr-dyr7Dk",
        "colab_type": "text"
      },
      "source": [
        "Answer 8:\n",
        "\n",
        "We'll use the scatter method of Matplotlib to draw a scatter plot between 'hospital_beds' and 'physicians'."
      ]
    },
    {
      "cell_type": "code",
      "metadata": {
        "id": "wW3-xaUDTPYI",
        "colab_type": "code",
        "outputId": "a3052f74-f586-47e4-8b0e-5587d07fff44",
        "colab": {
          "base_uri": "https://localhost:8080/",
          "height": 282
        }
      },
      "source": [
        "plt.scatter(data.hospital_beds, data.physicians)"
      ],
      "execution_count": 0,
      "outputs": [
        {
          "output_type": "execute_result",
          "data": {
            "text/plain": [
              "<matplotlib.collections.PathCollection at 0x7fbcff7f9f98>"
            ]
          },
          "metadata": {
            "tags": []
          },
          "execution_count": 23
        },
        {
          "output_type": "display_data",
          "data": {
            "image/png": "[encoded data removed]",
            "text/plain": [
              "<Figure size 432x288 with 1 Axes>"
            ]
          },
          "metadata": {
            "tags": [],
            "needs_background": "light"
          }
        }
      ]
    },
    {
      "cell_type": "markdown",
      "metadata": {
        "id": "bTmbpRaRsIkj",
        "colab_type": "text"
      },
      "source": [
        "The scatter plot matches with that of option a and b. We can notice that the direction of the line made by scatter plot is upwards or the slope of the line is positive. \n",
        "\n",
        "Also, the value of physicians is increasing as the value of hospital_beds is increasing. This means, there is a positive correlation between 'hospital_beds' and 'physicians'.\n",
        "\n",
        "Thus, **option a is correct.**"
      ]
    },
    {
      "cell_type": "markdown",
      "metadata": {
        "id": "laSNPXiJsueR",
        "colab_type": "text"
      },
      "source": [
        "**Question 9:**\n",
        "\n",
        "Which of the following is the correct bar plot of geographic regions?\n",
        "\n",
        "Select one:\n",
        "\n",
        "Option a:\n",
        "\n",
        " ![Option a](https://dphi.tech/wp-content/uploads/2020/06/q8o3.png)\n",
        "\n",
        "Option b:\n",
        "\n",
        " ![Option b](https://dphi.tech/wp-content/uploads/2020/06/q8o2.png)\n",
        "\n",
        "Option c:\n",
        "\n",
        " ![Option c](https://dphi.tech/wp-content/uploads/2020/06/q8o1.png)"
      ]
    },
    {
      "cell_type": "markdown",
      "metadata": {
        "id": "d0T_DHcWtBwG",
        "colab_type": "text"
      },
      "source": [
        "**Answer 9:**\n",
        "\n",
        "The question requires us to create a bar plot of geographic regions against the frequency of each region.\n",
        "\n",
        "This means that we'll have to count the occurrence of each region in our data.\n",
        "\n",
        "Let's have a look at 2 methods of making the same bar plot:\n",
        "\n"
      ]
    },
    {
      "cell_type": "markdown",
      "metadata": {
        "id": "ZS5j3F_V7zRt",
        "colab_type": "text"
      },
      "source": [
        "**Method 1 - Using the Pandas plot function to draw a bar plot**\n",
        "\n",
        "- In this method, we use the **value_counts()** function to find out the frequency of each region in our data. \n",
        "\n",
        "- The plot method with the **kind='bar' argument** helps us plot bar charts. We are also specifying an argument **color** and providing a list of colours we want our bars to be plotted in.\n",
        "\n",
        "- Also, it can be observed from the above options that the bars should not be sorted in the decreasing order of frequency which is usually the case while counting occurrence. We can use **sort_index()** to sort the bars according to their indices."
      ]
    },
    {
      "cell_type": "code",
      "metadata": {
        "id": "a8GU5NvQ7-LS",
        "colab_type": "code",
        "outputId": "6e9fb65c-3c24-413f-e2a7-b5c0027dba3f",
        "colab": {
          "base_uri": "https://localhost:8080/",
          "height": 309
        }
      },
      "source": [
        "ax = data['region'].value_counts().sort_index().plot(kind = 'bar', color = ['blue','orange','green','red'])\n",
        "ax.set_title(\"Geographic Region according to US census\")\n",
        "ax.set_xlabel(\"Geographic Region\")\n",
        "ax.set_ylabel(\"Frequency\")"
      ],
      "execution_count": 0,
      "outputs": [
        {
          "output_type": "execute_result",
          "data": {
            "text/plain": [
              "Text(0, 0.5, 'Frequency')"
            ]
          },
          "metadata": {
            "tags": []
          },
          "execution_count": 30
        },
        {
          "output_type": "display_data",
          "data": {
            "image/png": "[encoded data removed]",
            "text/plain": [
              "<Figure size 432x288 with 1 Axes>"
            ]
          },
          "metadata": {
            "tags": [],
            "needs_background": "light"
          }
        }
      ]
    },
    {
      "cell_type": "markdown",
      "metadata": {
        "id": "GlA15EXn8qjX",
        "colab_type": "text"
      },
      "source": [
        "**Method 2 - Using seaborn to draw a colourful bar plot**\n",
        "\n",
        "- In this approach, we first used the groupby method to group values according to the regions. \n",
        "\n",
        "- Then, we applied count to count the no. of entries in each group. \n",
        "\n",
        "- On printing this df, you can observe that all the columns now contain the same data i.e frequencies of groups. To get any particular column, you can specify the column name inside the square brackets. Here, we've randomly used the first column land_area.\n",
        "\n",
        "- Since the columns are grouped according to regions, our index will be region. \n",
        "\n",
        "- Finally, Seaborn's barplot method is used to plot a bar graph between the index and the land_area"
      ]
    },
    {
      "cell_type": "code",
      "metadata": {
        "id": "LM3dGWoNTdqB",
        "colab_type": "code",
        "outputId": "2883a48f-0cfb-4efd-a8d5-a75fad4936eb",
        "colab": {
          "base_uri": "https://localhost:8080/",
          "height": 223
        }
      },
      "source": [
        "df1 = data.groupby('region').count()\n",
        "df1"
      ],
      "execution_count": 0,
      "outputs": [
        {
          "output_type": "execute_result",
          "data": {
            "text/html": [
              "<div>\n",
              "<style scoped>\n",
              "    .dataframe tbody tr th:only-of-type {\n",
              "        vertical-align: middle;\n",
              "    }\n",
              "\n",
              "    .dataframe tbody tr th {\n",
              "        vertical-align: top;\n",
              "    }\n",
              "\n",
              "    .dataframe thead th {\n",
              "        text-align: right;\n",
              "    }\n",
              "</style>\n",
              "<table border=\"1\" class=\"dataframe\">\n",
              "  <thead>\n",
              "    <tr style=\"text-align: right;\">\n",
              "      <th></th>\n",
              "      <th>land_area</th>\n",
              "      <th>percent_city</th>\n",
              "      <th>percent_senior</th>\n",
              "      <th>physicians</th>\n",
              "      <th>hospital_beds</th>\n",
              "      <th>graduates</th>\n",
              "      <th>work_force</th>\n",
              "      <th>income</th>\n",
              "      <th>crime_rate</th>\n",
              "    </tr>\n",
              "    <tr>\n",
              "      <th>region</th>\n",
              "      <th></th>\n",
              "      <th></th>\n",
              "      <th></th>\n",
              "      <th></th>\n",
              "      <th></th>\n",
              "      <th></th>\n",
              "      <th></th>\n",
              "      <th></th>\n",
              "      <th></th>\n",
              "    </tr>\n",
              "  </thead>\n",
              "  <tbody>\n",
              "    <tr>\n",
              "      <th>1</th>\n",
              "      <td>21</td>\n",
              "      <td>21</td>\n",
              "      <td>21</td>\n",
              "      <td>21</td>\n",
              "      <td>21</td>\n",
              "      <td>21</td>\n",
              "      <td>21</td>\n",
              "      <td>21</td>\n",
              "      <td>21</td>\n",
              "    </tr>\n",
              "    <tr>\n",
              "      <th>2</th>\n",
              "      <td>25</td>\n",
              "      <td>25</td>\n",
              "      <td>25</td>\n",
              "      <td>25</td>\n",
              "      <td>25</td>\n",
              "      <td>25</td>\n",
              "      <td>25</td>\n",
              "      <td>25</td>\n",
              "      <td>25</td>\n",
              "    </tr>\n",
              "    <tr>\n",
              "      <th>3</th>\n",
              "      <td>36</td>\n",
              "      <td>36</td>\n",
              "      <td>36</td>\n",
              "      <td>36</td>\n",
              "      <td>36</td>\n",
              "      <td>36</td>\n",
              "      <td>36</td>\n",
              "      <td>36</td>\n",
              "      <td>36</td>\n",
              "    </tr>\n",
              "    <tr>\n",
              "      <th>4</th>\n",
              "      <td>17</td>\n",
              "      <td>17</td>\n",
              "      <td>17</td>\n",
              "      <td>17</td>\n",
              "      <td>17</td>\n",
              "      <td>17</td>\n",
              "      <td>17</td>\n",
              "      <td>17</td>\n",
              "      <td>17</td>\n",
              "    </tr>\n",
              "  </tbody>\n",
              "</table>\n",
              "</div>"
            ],
            "text/plain": [
              "        land_area  percent_city  percent_senior  ...  work_force  income  crime_rate\n",
              "region                                           ...                                \n",
              "1              21            21              21  ...          21      21          21\n",
              "2              25            25              25  ...          25      25          25\n",
              "3              36            36              36  ...          36      36          36\n",
              "4              17            17              17  ...          17      17          17\n",
              "\n",
              "[4 rows x 9 columns]"
            ]
          },
          "metadata": {
            "tags": []
          },
          "execution_count": 34
        }
      ]
    },
    {
      "cell_type": "code",
      "metadata": {
        "id": "ahhapg2AVmcB",
        "colab_type": "code",
        "outputId": "e68a19d0-44e5-421f-9c91-850d5acd5527",
        "colab": {
          "base_uri": "https://localhost:8080/",
          "height": 203
        }
      },
      "source": [
        "df = df1[['land_area']]\n",
        "df"
      ],
      "execution_count": 0,
      "outputs": [
        {
          "output_type": "execute_result",
          "data": {
            "text/html": [
              "<div>\n",
              "<style scoped>\n",
              "    .dataframe tbody tr th:only-of-type {\n",
              "        vertical-align: middle;\n",
              "    }\n",
              "\n",
              "    .dataframe tbody tr th {\n",
              "        vertical-align: top;\n",
              "    }\n",
              "\n",
              "    .dataframe thead th {\n",
              "        text-align: right;\n",
              "    }\n",
              "</style>\n",
              "<table border=\"1\" class=\"dataframe\">\n",
              "  <thead>\n",
              "    <tr style=\"text-align: right;\">\n",
              "      <th></th>\n",
              "      <th>land_area</th>\n",
              "    </tr>\n",
              "    <tr>\n",
              "      <th>region</th>\n",
              "      <th></th>\n",
              "    </tr>\n",
              "  </thead>\n",
              "  <tbody>\n",
              "    <tr>\n",
              "      <th>1</th>\n",
              "      <td>21</td>\n",
              "    </tr>\n",
              "    <tr>\n",
              "      <th>2</th>\n",
              "      <td>25</td>\n",
              "    </tr>\n",
              "    <tr>\n",
              "      <th>3</th>\n",
              "      <td>36</td>\n",
              "    </tr>\n",
              "    <tr>\n",
              "      <th>4</th>\n",
              "      <td>17</td>\n",
              "    </tr>\n",
              "  </tbody>\n",
              "</table>\n",
              "</div>"
            ],
            "text/plain": [
              "        land_area\n",
              "region           \n",
              "1              21\n",
              "2              25\n",
              "3              36\n",
              "4              17"
            ]
          },
          "metadata": {
            "tags": []
          },
          "execution_count": 35
        }
      ]
    },
    {
      "cell_type": "code",
      "metadata": {
        "id": "7FC_KpWyU-ZM",
        "colab_type": "code",
        "outputId": "ed65c2f8-3f5a-4911-ca63-aae42783713e",
        "colab": {
          "base_uri": "https://localhost:8080/",
          "height": 312
        }
      },
      "source": [
        "ax = sns.barplot(df.index, df.land_area)\n",
        "ax.set_title(\"Geographic Region according to US census\")\n",
        "ax.set_xlabel(\"Geographic Region\")\n",
        "ax.set_ylabel(\"Frequency\")"
      ],
      "execution_count": 0,
      "outputs": [
        {
          "output_type": "execute_result",
          "data": {
            "text/plain": [
              "Text(0, 0.5, 'Frequency')"
            ]
          },
          "metadata": {
            "tags": []
          },
          "execution_count": 33
        },
        {
          "output_type": "display_data",
          "data": {
            "image/png": "[encoded data removed]",
            "text/plain": [
              "<Figure size 432x288 with 1 Axes>"
            ]
          },
          "metadata": {
            "tags": [],
            "needs_background": "light"
          }
        }
      ]
    },
    {
      "cell_type": "markdown",
      "metadata": {
        "id": "Idhgqazx7tjE",
        "colab_type": "text"
      },
      "source": [
        "We have obtained the exact same plot as option c. Thus, **option c is correct.**"
      ]
    },
    {
      "cell_type": "markdown",
      "metadata": {
        "id": "gX8YquIZs7Km",
        "colab_type": "text"
      },
      "source": [
        "**Question 10:**\n",
        "\n",
        "Which of the following is showing the correct distribution of income of the Metropolitan areas?\n",
        "\n",
        "Select one:\n",
        "\n",
        "Option a:\n",
        "\n",
        " ![Option a](https://dphi.tech/wp-content/uploads/2020/06/q9o1.png)\n",
        "\n",
        "Option b:\n",
        "\n",
        " ![Option b](https://dphi.tech/wp-content/uploads/2020/06/q9o3.png)\n",
        "\n",
        "\n",
        "Option c:\n",
        "\n",
        " ![Option c](https://dphi.tech/wp-content/uploads/2020/06/q9o2.png)"
      ]
    },
    {
      "cell_type": "markdown",
      "metadata": {
        "id": "T2PAXl2qs9a_",
        "colab_type": "text"
      },
      "source": [
        "**Answer 10:**\n",
        "\n",
        "From the options, we understand that the question requires us to plot a histogram for income. We can do that with Matplotlib's hist function."
      ]
    },
    {
      "cell_type": "code",
      "metadata": {
        "id": "aNOhvaHEs_L1",
        "colab_type": "code",
        "outputId": "4d4f8193-009b-4054-e6fc-67fce83a7091",
        "colab": {
          "base_uri": "https://localhost:8080/",
          "height": 312
        }
      },
      "source": [
        "plt.hist(data.income)\n",
        "plt.title('Total income in 1976 in millions of dollars')\n",
        "plt.xlabel('Income')\n",
        "plt.ylabel('Frequency')\n",
        "plt.plot()"
      ],
      "execution_count": 0,
      "outputs": [
        {
          "output_type": "execute_result",
          "data": {
            "text/plain": [
              "[]"
            ]
          },
          "metadata": {
            "tags": []
          },
          "execution_count": 26
        },
        {
          "output_type": "display_data",
          "data": {
            "image/png": "[encoded data removed]",
            "text/plain": [
              "<Figure size 432x288 with 1 Axes>"
            ]
          },
          "metadata": {
            "tags": [],
            "needs_background": "light"
          }
        }
      ]
    },
    {
      "cell_type": "markdown",
      "metadata": {
        "id": "d7gI2dRp9a0O",
        "colab_type": "text"
      },
      "source": [
        "We have obtained the exact same plot as a. Thus, **option a is correct.**"
      ]
    },
    {
      "cell_type": "markdown",
      "metadata": {
        "id": "Wum5d9wVBSr6",
        "colab_type": "text"
      },
      "source": [
        "And that's it with all the questions of the assignment! If you faced some difficulties in solving those, going through this article might be helpful.\n",
        "\n",
        "https://www.learndatasci.com/tutorials/python-pandas-tutorial-complete-introduction-for-beginners/"
      ]
    }
  ]
}